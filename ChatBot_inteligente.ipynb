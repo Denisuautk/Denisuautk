{
  "nbformat": 4,
  "nbformat_minor": 0,
  "metadata": {
    "colab": {
      "name": "ChatBot_inteligente.ipynb",
      "private_outputs": true,
      "provenance": [],
      "collapsed_sections": [],
      "authorship_tag": "ABX9TyOyU0qqe66zg+qTW5zP+ZfM",
      "include_colab_link": true
    },
    "kernelspec": {
      "name": "python3",
      "display_name": "Python 3"
    },
    "language_info": {
      "name": "python"
    }
  },
  "cells": [
    {
      "cell_type": "markdown",
      "metadata": {
        "id": "view-in-github",
        "colab_type": "text"
      },
      "source": [
        "<a href=\"https://colab.research.google.com/github/Denisuautk/Denisuautk/blob/main/ChatBot_inteligente.ipynb\" target=\"_parent\"><img src=\"https://colab.research.google.com/assets/colab-badge.svg\" alt=\"Open In Colab\"/></a>"
      ]
    },
    {
      "cell_type": "code",
      "metadata": {
        "id": "XOMucVSB7d96"
      },
      "source": [
        "pip install chatterbot"
      ],
      "execution_count": null,
      "outputs": []
    },
    {
      "cell_type": "code",
      "metadata": {
        "id": "XINlXwRyOvlO"
      },
      "source": [
        "from chatterbot import ChatBot\n",
        "from chatterbot.trainers import ListTrainer\n",
        "\n",
        "# isso aqui só precisa para corrigir o bug\n",
        "from spacy.cli import download\n",
        "\n",
        "download(\"en_core_web_sm\")\n",
        "\n",
        "class ENGSM:\n",
        "    ISO_639_1 = 'en_core_web_sm'"
      ],
      "execution_count": null,
      "outputs": []
    },
    {
      "cell_type": "code",
      "metadata": {
        "id": "SuB9L73ISPwH"
      },
      "source": [
        "chatbot = ChatBot(\"UauSpace\", tagger_language=ENGSM)\n",
        "\n",
        "conversa = [\n",
        "    \"Olá\",\n",
        "    \"Como vai?\",\n",
        "    \"Vou bem\",\n",
        "    \"Qual a boa de hoje?\",\n",
        "    \"A IA da UAU tá ensinando ChatBotUAU entender a sua linguagem \",\n",
        "    \"Caraca que doidera\",\n",
        "    \"ok, qual seria sua duvida?\",\n",
        "    \"Legal\",\n",
        "    \"A nossa taxa esta relacionado ao nosso serviço\",\n",
        "]\n",
        "\n",
        "trainer = ListTrainer(chatbot)\n",
        "trainer.train(conversa)"
      ],
      "execution_count": null,
      "outputs": []
    },
    {
      "cell_type": "code",
      "metadata": {
        "id": "1Z9xNyCQSUvO"
      },
      "source": [
        "while True:\n",
        "    mensagem = input(\"Olá pessoal da Harve. Eu sou a Uauspace:\")\n",
        "    if mensagem == \"parar\":\n",
        "        break\n",
        "    resposta = chatbot.get_response(mensagem)\n",
        "    print(resposta)\n",
        "\n",
        "while True:\n",
        "    mensagem = input(\"Qual o numero do pedido:\")\n",
        "    if mensagem == \"parar\":\n",
        "        break\n",
        "    resposta = chatbot.get_response(mensagem)\n",
        "    print(resposta)"
      ],
      "execution_count": null,
      "outputs": []
    },
    {
      "cell_type": "code",
      "metadata": {
        "id": "flzESTpbSd-V"
      },
      "source": [
        "chatbot.storage.drop()"
      ],
      "execution_count": null,
      "outputs": []
    }
  ]
}