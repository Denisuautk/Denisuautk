{
  "nbformat": 4,
  "nbformat_minor": 0,
  "metadata": {
    "colab": {
      "name": "Buscando_cotacao.ipynb",
      "private_outputs": true,
      "provenance": [],
      "authorship_tag": "ABX9TyM1FBPWKIZHRiGHPTOuA1oq",
      "include_colab_link": true
    },
    "kernelspec": {
      "name": "python3",
      "display_name": "Python 3"
    },
    "language_info": {
      "name": "python"
    }
  },
  "cells": [
    {
      "cell_type": "markdown",
      "metadata": {
        "id": "view-in-github",
        "colab_type": "text"
      },
      "source": [
        "<a href=\"https://colab.research.google.com/github/Denisuautk/Denisuautk/blob/main/Buscando_cotacao.ipynb\" target=\"_parent\"><img src=\"https://colab.research.google.com/assets/colab-badge.svg\" alt=\"Open In Colab\"/></a>"
      ]
    },
    {
      "cell_type": "code",
      "metadata": {
        "id": "Vtsm0QKSUIYr"
      },
      "source": [
        "import requests\n",
        "from tkinter import *"
      ],
      "execution_count": null,
      "outputs": []
    },
    {
      "cell_type": "code",
      "metadata": {
        "id": "jyezD8n0Uiji"
      },
      "source": [
        "def pegar_cotacoes():\n",
        "    requisicao = requests.get(\"https://economia.awesomeapi.com.br/last/USD-BRL,EUR-BRL,BTC-BRL\")\n",
        "\n",
        "    requisicao_dic = requisicao.json()\n",
        "\n",
        "    cotacao_dolar = requisicao_dic['USDBRL']['bid']\n",
        "    cotacao_euro = requisicao_dic['EURBRL']['bid']\n",
        "    cotacao_btc = requisicao_dic['BTCBRL']['bid']\n",
        "\n",
        "    texto = f'''\n",
        "    Dólar: {cotacao_dolar}\n",
        "    Euro: {cotacao_euro}\n",
        "    BTC: {cotacao_btc}'''\n",
        "\n",
        "    print(texto)\n",
        "\n",
        "pegar_cotacoes()\n"
      ],
      "execution_count": null,
      "outputs": []
    }
  ]
}